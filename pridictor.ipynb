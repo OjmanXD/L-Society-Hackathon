{
 "cells": [
  {
   "cell_type": "code",
   "execution_count": 1,
   "id": "9e5baadb",
   "metadata": {},
   "outputs": [],
   "source": [
    "from tensorflow import keras\n",
    "import pandas as pd \n",
    "import numpy as np\n",
    "import re\n",
    "import spacy_sentence_bert\n",
    "import pickle"
   ]
  },
  {
   "cell_type": "code",
   "execution_count": 16,
   "id": "79b24968",
   "metadata": {},
   "outputs": [],
   "source": [
    "# issue_def=\"\"\"O365 | Email | Mail delivery issue\t\"the user called  us because  when  she  seend eamils to   her friends of work \n",
    "# they have this errror messages \n",
    "# REQUIRED QUESTIONS: \n",
    "# - User's First Name & Last Name: Sylvie Sedeau\n",
    "# - Computer Name:  CI-M113209\"\n",
    "# \"\"\""
   ]
  },
  {
   "cell_type": "code",
   "execution_count": 19,
   "id": "42587180",
   "metadata": {},
   "outputs": [],
   "source": [
    "issue_def=\"\"\"Please blobk this user hfgfdhf@gmail.com \"\"\""
   ]
  },
  {
   "cell_type": "code",
   "execution_count": null,
   "id": "c7a5c0b7",
   "metadata": {},
   "outputs": [],
   "source": []
  },
  {
   "cell_type": "code",
   "execution_count": 16,
   "id": "1b8ff986",
   "metadata": {},
   "outputs": [],
   "source": [
    "nlp = spacy_sentence_bert.load_model('en_stsb_roberta_large')\n",
    "infile = open('sub_category_1_labelmap.pkl','rb')\n",
    "sub_category_1_labelmap = pickle.load(infile)\n",
    "infile.close()\n",
    "infile = open('sub_category_2_labelmap.pkl','rb')\n",
    "sub_category_2_labelmap = pickle.load(infile)\n",
    "infile.close()\n",
    "infile = open('sub_category_3_labelmap.pkl','rb')\n",
    "sub_category_3_labelmap = pickle.load(infile)\n",
    "infile.close()\n",
    "model_sub_cat1= keras.models.load_model('./sub_category_1_model/')\n",
    "model_sub_cat2= keras.models.load_model('./sub_category_2_model/')\n",
    "model_sub_cat3= keras.models.load_model('./sub_category_3_model/')\n",
    "\n",
    "\n",
    "def get_reason(vector):\n",
    "    prediction = model_sub_cat1.predict(np.array([vector]))\n",
    "    class_name=list(sub_category_1_labelmap.keys())\n",
    "    sub_cat_1=class_name[np.argmax(prediction[0])]\n",
    "    \n",
    "    prediction = model_sub_cat2.predict(np.array([vector]))\n",
    "    class_name=list(sub_category_2_labelmap.keys())\n",
    "    sub_cat_2=class_name[np.argmax(prediction[0])]\n",
    "    \n",
    "    prediction = model_sub_cat3.predict(np.array([vector]))\n",
    "    class_name=list(sub_category_3_labelmap.keys())\n",
    "    sub_cat_3=class_name[np.argmax(prediction[0])]\n",
    "\n",
    "    return(sub_cat_1,sub_cat_2,sub_cat_3)\n",
    "\n",
    "\n",
    "    "
   ]
  },
  {
   "cell_type": "code",
   "execution_count": 20,
   "id": "e9923c0a",
   "metadata": {},
   "outputs": [],
   "source": [
    "comment_vector=nlp(issue_def).vector\n"
   ]
  },
  {
   "cell_type": "code",
   "execution_count": 21,
   "id": "14bb103e",
   "metadata": {},
   "outputs": [
    {
     "name": "stdout",
     "output_type": "stream",
     "text": [
      "1/1 [==============================] - 0s 21ms/step\n",
      "1/1 [==============================] - 0s 18ms/step\n",
      "1/1 [==============================] - 0s 16ms/step\n"
     ]
    },
    {
     "data": {
      "text/plain": [
       "('email', 'ir-action', 'block email')"
      ]
     },
     "execution_count": 21,
     "metadata": {},
     "output_type": "execute_result"
    }
   ],
   "source": [
    "cats = get_reason(comment_vector)\n",
    "cats"
   ]
  },
  {
   "cell_type": "code",
   "execution_count": 21,
   "id": "b2feb9e7",
   "metadata": {},
   "outputs": [],
   "source": [
    "\n",
    "\n",
    "# from keybert import KeyBERT\n",
    "\n",
    "\n",
    "# kw_model = KeyBERT(model='all-mpnet-base-v2')\n",
    "\n"
   ]
  },
  {
   "cell_type": "code",
   "execution_count": 22,
   "id": "f0a2bd7c",
   "metadata": {},
   "outputs": [],
   "source": [
    "# def get_key_words(full_text,kw_model):\n",
    "#     keywords = kw_model.extract_keywords(full_text, \n",
    "\n",
    "#                                      keyphrase_ngram_range=(3,5 ), \n",
    "\n",
    "#                                      stop_words='english', \n",
    "\n",
    "#                                      highlight=False,\n",
    "\n",
    "#                                      top_n=5)\n",
    "#     keywords_list= list(dict(keywords).keys())\n",
    "#     if len(keywords_list)==1:\n",
    "#         print(keywords_list)\n",
    "#         keywords_list=[\"nan\",\"nan\"]\n",
    "#         print(keywords_list)\n",
    "#     return(keywords_list)\n"
   ]
  },
  {
   "cell_type": "code",
   "execution_count": 23,
   "id": "f0139392",
   "metadata": {},
   "outputs": [],
   "source": [
    "# key_word_list=get_key_words(issue_def,kw_model)"
   ]
  },
  {
   "cell_type": "code",
   "execution_count": 24,
   "id": "3828c382",
   "metadata": {},
   "outputs": [],
   "source": [
    "# import matplotlib.pyplot as plt\n",
    "# from wordcloud import WordCloud,STOPWORDS\n",
    "# stopwords = set(STOPWORDS)\n",
    "# #convert list to string and generate\n",
    "# unique_string=(\" \").join(key_word_list)\n",
    "# wordcloud = WordCloud(width = 1000, height = 600,\n",
    "#                 background_color ='white',\n",
    "#                 stopwords = stopwords,\n",
    "#                 min_font_size = 7).generate(unique_string)\n",
    "# plt.figure(figsize=(15,8))\n",
    "# plt.imshow(wordcloud)\n",
    "# plt.axis(\"off\")\n",
    "# plt.savefig(\"your_file_name\"+\".png\", bbox_inches='tight')\n",
    "# plt.show()\n",
    "# plt.close()"
   ]
  },
  {
   "cell_type": "code",
   "execution_count": null,
   "id": "072b1377",
   "metadata": {},
   "outputs": [],
   "source": []
  }
 ],
 "metadata": {
  "kernelspec": {
   "display_name": "Python 3 (ipykernel)",
   "language": "python",
   "name": "python3"
  },
  "language_info": {
   "codemirror_mode": {
    "name": "ipython",
    "version": 3
   },
   "file_extension": ".py",
   "mimetype": "text/x-python",
   "name": "python",
   "nbconvert_exporter": "python",
   "pygments_lexer": "ipython3",
   "version": "3.11.4"
  }
 },
 "nbformat": 4,
 "nbformat_minor": 5
}
